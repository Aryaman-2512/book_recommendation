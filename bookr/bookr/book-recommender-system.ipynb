{
 "cells": [
  {
   "cell_type": "code",
   "execution_count": 1,
   "id": "4414f6bd",
   "metadata": {},
   "outputs": [
    {
     "ename": "ModuleNotFoundError",
     "evalue": "No module named 'numpy'",
     "output_type": "error",
     "traceback": [
      "\u001b[1;31m---------------------------------------------------------------------------\u001b[0m",
      "\u001b[1;31mModuleNotFoundError\u001b[0m                       Traceback (most recent call last)",
      "Cell \u001b[1;32mIn[1], line 1\u001b[0m\n\u001b[1;32m----> 1\u001b[0m \u001b[38;5;28;01mimport\u001b[39;00m \u001b[38;5;21;01mnumpy\u001b[39;00m \u001b[38;5;28;01mas\u001b[39;00m \u001b[38;5;21;01mnp\u001b[39;00m\n\u001b[0;32m      2\u001b[0m \u001b[38;5;28;01mimport\u001b[39;00m \u001b[38;5;21;01mpandas\u001b[39;00m \u001b[38;5;28;01mas\u001b[39;00m \u001b[38;5;21;01mpd\u001b[39;00m\n",
      "\u001b[1;31mModuleNotFoundError\u001b[0m: No module named 'numpy'"
     ]
    }
   ],
   "source": [
    "import numpy as np\n",
    "import pandas as pd"
   ]
  },
  {
   "cell_type": "code",
   "execution_count": null,
   "id": "94923046",
   "metadata": {
    "scrolled": true
   },
   "outputs": [],
   "source": [
    "books = pd.read_csv('books.csv')\n",
    "users = pd.read_csv('users.csv')\n",
    "ratings = pd.read_csv('ratings.csv')"
   ]
  },
  {
   "cell_type": "code",
   "execution_count": null,
   "id": "c8afc553",
   "metadata": {},
   "outputs": [],
   "source": []
  },
  {
   "cell_type": "code",
   "execution_count": null,
   "id": "5fd4dc69",
   "metadata": {},
   "outputs": [],
   "source": [
    "users.head()"
   ]
  },
  {
   "cell_type": "code",
   "execution_count": null,
   "id": "690238f5",
   "metadata": {},
   "outputs": [],
   "source": [
    "ratings.head()"
   ]
  },
  {
   "cell_type": "code",
   "execution_count": null,
   "id": "276d0dab",
   "metadata": {},
   "outputs": [],
   "source": [
    "print(books.shape)\n",
    "print(ratings.shape)\n",
    "print(users.shape)"
   ]
  },
  {
   "cell_type": "code",
   "execution_count": null,
   "id": "269b86e1",
   "metadata": {},
   "outputs": [],
   "source": [
    "books.isnull().sum()"
   ]
  },
  {
   "cell_type": "code",
   "execution_count": null,
   "id": "35060ccd",
   "metadata": {},
   "outputs": [],
   "source": [
    "users.isnull().sum()"
   ]
  },
  {
   "cell_type": "code",
   "execution_count": null,
   "id": "b89899aa",
   "metadata": {},
   "outputs": [],
   "source": [
    "ratings.isnull().sum()"
   ]
  },
  {
   "cell_type": "code",
   "execution_count": null,
   "id": "16410edc",
   "metadata": {},
   "outputs": [],
   "source": [
    "books.duplicated().sum()"
   ]
  },
  {
   "cell_type": "code",
   "execution_count": null,
   "id": "66adac61",
   "metadata": {},
   "outputs": [],
   "source": [
    "ratings.duplicated().sum()"
   ]
  },
  {
   "cell_type": "code",
   "execution_count": null,
   "id": "3f1b11a5",
   "metadata": {},
   "outputs": [],
   "source": [
    "users.duplicated().sum()"
   ]
  },
  {
   "cell_type": "markdown",
   "id": "46d4719f",
   "metadata": {},
   "source": [
    "## Popularity Based Recommender System"
   ]
  },
  {
   "cell_type": "code",
   "execution_count": null,
   "id": "cce41232",
   "metadata": {},
   "outputs": [],
   "source": [
    "ratings_with_name = ratings.merge(books,on='ISBN')"
   ]
  },
  {
   "cell_type": "code",
   "execution_count": null,
   "id": "af8925a6",
   "metadata": {},
   "outputs": [],
   "source": [
    "num_rating_df = ratings_with_name.groupby('Book-Title').count()['Book-Rating'].reset_index()\n",
    "num_rating_df.rename(columns={'Book-Rating':'num_ratings'},inplace=True)\n",
    "num_rating_df"
   ]
  },
  {
   "cell_type": "code",
   "execution_count": null,
   "id": "db1b0fd4",
   "metadata": {},
   "outputs": [],
   "source": [
    "avg_rating_df = ratings_with_name.groupby('Book-Title').mean()['Book-Rating'].reset_index()\n",
    "avg_rating_df.rename(columns={'Book-Rating':'avg_rating'},inplace=True)\n",
    "avg_rating_df"
   ]
  },
  {
   "cell_type": "code",
   "execution_count": null,
   "id": "2524096d",
   "metadata": {},
   "outputs": [],
   "source": [
    "popular_df = num_rating_df.merge(avg_rating_df,on='Book-Title')\n",
    "popular_df"
   ]
  },
  {
   "cell_type": "code",
   "execution_count": null,
   "id": "96aeff99",
   "metadata": {},
   "outputs": [],
   "source": [
    "popular_df = popular_df[popular_df['num_ratings']>=250].sort_values('avg_rating',ascending=False).head(50)"
   ]
  },
  {
   "cell_type": "code",
   "execution_count": null,
   "id": "2aeb6c74",
   "metadata": {},
   "outputs": [],
   "source": [
    "popular_df = popular_df.merge(books,on='Book-Title').drop_duplicates('Book-Title')[['Book-Title','Book-Author','Image-URL-M','num_ratings','avg_rating']]"
   ]
  },
  {
   "cell_type": "code",
   "execution_count": null,
   "id": "b94cc12d",
   "metadata": {
    "scrolled": true
   },
   "outputs": [],
   "source": [
    "popular_df['Image-URL-M'][0]"
   ]
  },
  {
   "cell_type": "markdown",
   "id": "bd1b1056",
   "metadata": {},
   "source": [
    "## Collaborative Filtering Based Recommender System"
   ]
  },
  {
   "cell_type": "code",
   "execution_count": null,
   "id": "8cadf2cc",
   "metadata": {},
   "outputs": [],
   "source": [
    "x = ratings_with_name.groupby('User-ID').count()['Book-Rating'] > 200\n",
    "padhe_likhe_users = x[x].index"
   ]
  },
  {
   "cell_type": "code",
   "execution_count": null,
   "id": "5a7bb823",
   "metadata": {},
   "outputs": [],
   "source": [
    "filtered_rating = ratings_with_name[ratings_with_name['User-ID'].isin(padhe_likhe_users)]"
   ]
  },
  {
   "cell_type": "code",
   "execution_count": null,
   "id": "9b748d24",
   "metadata": {},
   "outputs": [],
   "source": [
    "y = filtered_rating.groupby('Book-Title').count()['Book-Rating']>=50\n",
    "famous_books = y[y].index"
   ]
  },
  {
   "cell_type": "code",
   "execution_count": null,
   "id": "4b4f5f7f",
   "metadata": {},
   "outputs": [],
   "source": [
    "final_ratings = filtered_rating[filtered_rating['Book-Title'].isin(famous_books)]"
   ]
  },
  {
   "cell_type": "code",
   "execution_count": null,
   "id": "af1c6e92",
   "metadata": {},
   "outputs": [],
   "source": [
    "pt = final_ratings.pivot_table(index='Book-Title',columns='User-ID',values='Book-Rating')"
   ]
  },
  {
   "cell_type": "code",
   "execution_count": null,
   "id": "d049e58f",
   "metadata": {},
   "outputs": [],
   "source": [
    "pt.fillna(0,inplace=True)"
   ]
  },
  {
   "cell_type": "code",
   "execution_count": null,
   "id": "8f01aaf1",
   "metadata": {},
   "outputs": [],
   "source": [
    "pt"
   ]
  },
  {
   "cell_type": "code",
   "execution_count": null,
   "id": "d92c3841",
   "metadata": {},
   "outputs": [],
   "source": [
    "from sklearn.metrics.pairwise import cosine_similarity"
   ]
  },
  {
   "cell_type": "code",
   "execution_count": null,
   "id": "141cdf48",
   "metadata": {},
   "outputs": [],
   "source": [
    "similarity_scores = cosine_similarity(pt)"
   ]
  },
  {
   "cell_type": "code",
   "execution_count": null,
   "id": "4df281a2",
   "metadata": {},
   "outputs": [],
   "source": [
    "similarity_scores.shape"
   ]
  },
  {
   "cell_type": "code",
   "execution_count": null,
   "id": "a9814230",
   "metadata": {},
   "outputs": [],
   "source": []
  },
  {
   "cell_type": "code",
   "execution_count": null,
   "id": "a61f6934",
   "metadata": {},
   "outputs": [],
   "source": []
  },
  {
   "cell_type": "code",
   "execution_count": null,
   "id": "834d504f",
   "metadata": {},
   "outputs": [],
   "source": []
  },
  {
   "cell_type": "code",
   "execution_count": null,
   "id": "e87f6224",
   "metadata": {},
   "outputs": [],
   "source": []
  },
  {
   "cell_type": "code",
   "execution_count": null,
   "id": "91e1cc2d",
   "metadata": {},
   "outputs": [],
   "source": []
  },
  {
   "cell_type": "code",
   "execution_count": null,
   "id": "e0b00559",
   "metadata": {},
   "outputs": [],
   "source": []
  },
  {
   "cell_type": "code",
   "execution_count": null,
   "id": "82f09302",
   "metadata": {},
   "outputs": [],
   "source": []
  }
 ],
 "metadata": {
  "kernelspec": {
   "display_name": "Python 3 (ipykernel)",
   "language": "python",
   "name": "python3"
  },
  "language_info": {
   "codemirror_mode": {
    "name": "ipython",
    "version": 3
   },
   "file_extension": ".py",
   "mimetype": "text/x-python",
   "name": "python",
   "nbconvert_exporter": "python",
   "pygments_lexer": "ipython3",
   "version": "3.10.11"
  }
 },
 "nbformat": 4,
 "nbformat_minor": 5
}
